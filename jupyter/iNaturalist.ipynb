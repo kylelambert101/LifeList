{
 "cells": [
  {
   "cell_type": "code",
   "execution_count": 56,
   "metadata": {},
   "outputs": [],
   "source": [
    "import requests\n",
    "requestBaseURL = \"https://api.inaturalist.org/v1/observations/species_counts\" \n",
    "\n",
    "requestParams = (\n",
    "                    \"verifiable=true\"\n",
    "                    \"&spam=false\"\n",
    "                    \"&captive=false\"\n",
    "                    \"&locale=en\"\n",
    "                    \"&preferred_place_id=1\"\n",
    "                    \"&lat=42.947762\"\n",
    "                    \"&lng=-78.782513\"\n",
    "                    \"&radius=50\"\n",
    "                    \"&per_page=100\"\n",
    "                )\n",
    "\n",
    "requestURL = f'{requestBaseURL}?{requestParams}'\n",
    "\n",
    "def getResponsePage(pageNum):\n",
    "    response = requests.get(f'{requestURL}&page={pageNum}')\n",
    "    if response.status_code != 200:\n",
    "        print('Error from API request')\n",
    "        print(requestURL)\n",
    "        print(response.text)\n",
    "    return response.text"
   ]
  },
  {
   "cell_type": "raw",
   "metadata": {},
   "source": [
    "# This cell pulls all pages of request data\n",
    "# I decided that's not needed at this point since I only need top 100\n",
    "import json, math\n",
    "\n",
    "results = []\n",
    "page = 1\n",
    "total_pages = 0\n",
    "while total_pages == 0 or page < total_pages:\n",
    "    data = getResponsePage(page)\n",
    "    jsonData = json.loads(data)\n",
    "    if total_pages == 0:\n",
    "        total_results = jsonData['total_results']\n",
    "        per_page = jsonData['per_page']\n",
    "        total_pages = math.ceil(total_results/per_page)\n",
    "    results.append(jsonData['results'])\n",
    "    page+=1\n",
    "\n",
    "len(results)\n",
    "    "
   ]
  },
  {
   "cell_type": "code",
   "execution_count": 57,
   "metadata": {},
   "outputs": [],
   "source": [
    "import json\n",
    "jsonData = json.loads(getResponsePage(1))\n",
    "\n",
    "results = jsonData['results']\n"
   ]
  },
  {
   "cell_type": "code",
   "execution_count": 58,
   "metadata": {},
   "outputs": [],
   "source": [
    "import pandas as pd\n",
    "\n",
    "df = pd.json_normalize(results)"
   ]
  },
  {
   "cell_type": "code",
   "execution_count": 59,
   "metadata": {},
   "outputs": [
    {
     "data": {
      "text/html": [
       "<div>\n",
       "<style scoped>\n",
       "    .dataframe tbody tr th:only-of-type {\n",
       "        vertical-align: middle;\n",
       "    }\n",
       "\n",
       "    .dataframe tbody tr th {\n",
       "        vertical-align: top;\n",
       "    }\n",
       "\n",
       "    .dataframe thead th {\n",
       "        text-align: right;\n",
       "    }\n",
       "</style>\n",
       "<table border=\"1\" class=\"dataframe\">\n",
       "  <thead>\n",
       "    <tr style=\"text-align: right;\">\n",
       "      <th></th>\n",
       "      <th>count</th>\n",
       "      <th>taxon.preferred_common_name</th>\n",
       "    </tr>\n",
       "  </thead>\n",
       "  <tbody>\n",
       "    <tr>\n",
       "      <th>0</th>\n",
       "      <td>605</td>\n",
       "      <td>common reed</td>\n",
       "    </tr>\n",
       "    <tr>\n",
       "      <th>1</th>\n",
       "      <td>447</td>\n",
       "      <td>Canada Goose</td>\n",
       "    </tr>\n",
       "    <tr>\n",
       "      <th>2</th>\n",
       "      <td>434</td>\n",
       "      <td>Monarch</td>\n",
       "    </tr>\n",
       "    <tr>\n",
       "      <th>3</th>\n",
       "      <td>433</td>\n",
       "      <td>Eastern Gray Squirrel</td>\n",
       "    </tr>\n",
       "    <tr>\n",
       "      <th>4</th>\n",
       "      <td>424</td>\n",
       "      <td>American Robin</td>\n",
       "    </tr>\n",
       "    <tr>\n",
       "      <th>...</th>\n",
       "      <td>...</td>\n",
       "      <td>...</td>\n",
       "    </tr>\n",
       "    <tr>\n",
       "      <th>95</th>\n",
       "      <td>111</td>\n",
       "      <td>purple-flowered raspberry</td>\n",
       "    </tr>\n",
       "    <tr>\n",
       "      <th>96</th>\n",
       "      <td>109</td>\n",
       "      <td>Dryad's Saddle</td>\n",
       "    </tr>\n",
       "    <tr>\n",
       "      <th>97</th>\n",
       "      <td>107</td>\n",
       "      <td>herb Robert</td>\n",
       "    </tr>\n",
       "    <tr>\n",
       "      <th>98</th>\n",
       "      <td>107</td>\n",
       "      <td>great mullein</td>\n",
       "    </tr>\n",
       "    <tr>\n",
       "      <th>99</th>\n",
       "      <td>107</td>\n",
       "      <td>Brown Marmorated Stink Bug</td>\n",
       "    </tr>\n",
       "  </tbody>\n",
       "</table>\n",
       "<p>100 rows × 2 columns</p>\n",
       "</div>"
      ],
      "text/plain": [
       "    count taxon.preferred_common_name\n",
       "0     605                 common reed\n",
       "1     447                Canada Goose\n",
       "2     434                     Monarch\n",
       "3     433       Eastern Gray Squirrel\n",
       "4     424              American Robin\n",
       "..    ...                         ...\n",
       "95    111   purple-flowered raspberry\n",
       "96    109              Dryad's Saddle\n",
       "97    107                 herb Robert\n",
       "98    107               great mullein\n",
       "99    107  Brown Marmorated Stink Bug\n",
       "\n",
       "[100 rows x 2 columns]"
      ]
     },
     "execution_count": 59,
     "metadata": {},
     "output_type": "execute_result"
    }
   ],
   "source": [
    "simpleCounts = df[[\"count\",\"taxon.preferred_common_name\"]]\n",
    "simpleCounts"
   ]
  },
  {
   "cell_type": "code",
   "execution_count": 60,
   "metadata": {},
   "outputs": [],
   "source": [
    "simpleCounts.to_csv(r'counts.csv',index=False)"
   ]
  }
 ],
 "metadata": {
  "kernelspec": {
   "display_name": "Python 3",
   "language": "python",
   "name": "python3"
  },
  "language_info": {
   "codemirror_mode": {
    "name": "ipython",
    "version": 3
   },
   "file_extension": ".py",
   "mimetype": "text/x-python",
   "name": "python",
   "nbconvert_exporter": "python",
   "pygments_lexer": "ipython3",
   "version": "3.8.6"
  }
 },
 "nbformat": 4,
 "nbformat_minor": 4
}
